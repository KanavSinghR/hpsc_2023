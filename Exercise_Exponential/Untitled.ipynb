{
 "cells": [
  {
   "cell_type": "code",
   "execution_count": 11,
   "id": "0226af41",
   "metadata": {},
   "outputs": [],
   "source": [
    "'''\n",
    "This function computes the exponential of a number using the exponential series\n",
    "'''\n",
    "def myexp(x,terms=100):\n",
    "    '''\n",
    "    myexp(x,terms=n)\n",
    "    x=Number whose exponential is to be calculated\n",
    "    terms=Number of terms to be used in exponential series\n",
    "    '''\n",
    "    summation=1.0;\n",
    "    assert terms>=0,'Number of terms must be positive'\n",
    "    fact=1.0;\n",
    "    for i in range (1,terms):\n",
    "        fact=fact*i\n",
    "        summation=summation+x**i/fact\n",
    "    return(summation)"
   ]
  },
  {
   "cell_type": "code",
   "execution_count": 18,
   "id": "de6d1667",
   "metadata": {},
   "outputs": [],
   "source": [
    "from math import exp"
   ]
  },
  {
   "cell_type": "code",
   "execution_count": null,
   "id": "637d346e",
   "metadata": {},
   "outputs": [],
   "source": []
  },
  {
   "cell_type": "code",
   "execution_count": null,
   "id": "4b6f9584",
   "metadata": {},
   "outputs": [],
   "source": []
  }
 ],
 "metadata": {
  "kernelspec": {
   "display_name": "Python 3 (ipykernel)",
   "language": "python",
   "name": "python3"
  },
  "language_info": {
   "codemirror_mode": {
    "name": "ipython",
    "version": 3
   },
   "file_extension": ".py",
   "mimetype": "text/x-python",
   "name": "python",
   "nbconvert_exporter": "python",
   "pygments_lexer": "ipython3",
   "version": "3.10.6"
  }
 },
 "nbformat": 4,
 "nbformat_minor": 5
}
